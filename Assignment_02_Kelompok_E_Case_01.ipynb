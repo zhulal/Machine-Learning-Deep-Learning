{
  "cells": [
    {
      "cell_type": "markdown",
      "metadata": {
        "id": "Avr_BuLrV23M"
      },
      "source": [
        "# Assignment Chapter 2 - MACHINE LEARNING [Case #1]\n",
        "Startup Campus, Indonesia - `Artificial Intelligence (AI)` (Batch 7)\n",
        "* Dataset: SC_HW1_bank_data\n",
        "* Libraries: Pandas, Numpy, Scikit-learn\n",
        "* Objective: Classification with Supervised Machine Learning Models\n",
        "\n",
        "`PERSYARATAN` Semua modul (termasuk versi yang sesuai) sudah di-install dengan benar.\n",
        "<br>`CARA PENGERJAAN` Lengkapi baris kode yang ditandai dengan **#TODO**.\n",
        "<br>`TARGET PORTFOLIO` Peserta mampu membandingkan akurasi klasifikasi dari berbagai model *supervised learning*."
      ]
    },
    {
      "cell_type": "markdown",
      "metadata": {
        "id": "RUIg363RYcAZ"
      },
      "source": [
        "### Import Library"
      ]
    },
    {
      "cell_type": "code",
      "execution_count": null,
      "metadata": {
        "id": "CWrO8BImYcAa"
      },
      "outputs": [],
      "source": [
        "import pandas as pd\n",
        "import numpy as np\n",
        "\n",
        "from sklearn.preprocessing import MinMaxScaler\n",
        "from sklearn.model_selection import train_test_split as tts\n",
        "from sklearn.model_selection import GridSearchCV\n",
        "\n",
        "from sklearn.metrics import classification_report\n",
        "from sklearn.metrics import accuracy_score\n",
        "from sklearn.metrics import confusion_matrix\n"
      ]
    },
    {
      "cell_type": "markdown",
      "metadata": {
        "id": "p_wYppbCYcAb"
      },
      "source": [
        "### Read Dataset"
      ]
    },
    {
      "cell_type": "markdown",
      "metadata": {
        "id": "EEkWs_WjS9Bv"
      },
      "source": []
    },
    {
      "cell_type": "code",
      "execution_count": null,
      "metadata": {
        "colab": {
          "base_uri": "https://localhost:8080/"
        },
        "id": "bU29IupsYcAb",
        "outputId": "6bec5a1e-11cd-4190-c5bd-b4515de40d7c"
      },
      "outputs": [
        {
          "output_type": "execute_result",
          "data": {
            "text/plain": [
              "Index(['RowNumber', 'CustomerId', 'Geography', 'Gender', 'Age', 'Tenure',\n",
              "       'Balance', 'NumOfProducts', 'HasCrCard', 'IsActiveMember',\n",
              "       'EstimatedSalary', 'Exited'],\n",
              "      dtype='object')"
            ]
          },
          "metadata": {},
          "execution_count": 2
        }
      ],
      "source": [
        "df = pd.read_csv('https://raw.githubusercontent.com/Rietaros/kampus_merdeka/main/SC_HW1_bank_data.csv')\n",
        "df.columns\n",
        "# df"
      ]
    },
    {
      "cell_type": "code",
      "execution_count": null,
      "metadata": {
        "id": "ySBcdpGy4rb3"
      },
      "outputs": [],
      "source": [
        "# TODO: Hilangkan kolom yang tidak relevan untuk pemodelan\n",
        "df = df[['Geography', 'Gender', 'Age', 'Tenure',\n",
        "       'Balance', 'NumOfProducts', 'HasCrCard', 'IsActiveMember',\n",
        "       'EstimatedSalary', 'Exited']].copy()\n",
        "\n",
        "# df.head\n"
      ]
    },
    {
      "cell_type": "markdown",
      "metadata": {
        "id": "VAUrcQVIYcAe"
      },
      "source": [
        "### Preprocessing"
      ]
    },
    {
      "cell_type": "code",
      "execution_count": null,
      "metadata": {
        "id": "owVHMXqEYcAe"
      },
      "outputs": [],
      "source": [
        "# TODO: Lakukan One-Hot Encoder untuk data kategorikal, dengan fungsi pd.get_dummies\n",
        "df = pd.get_dummies(df, columns=['Geography', 'Gender'], drop_first=True)\n"
      ]
    },
    {
      "cell_type": "code",
      "execution_count": null,
      "metadata": {
        "id": "zMNWzfUbYcAf"
      },
      "outputs": [],
      "source": [
        "# TODO: Pisahkan fitur (X) dengan target (Y), dimana Y merujuk ke kolom \"Exited\"\n",
        "X = df.drop('Exited', axis=1)\n",
        "y = df['Exited']"
      ]
    },
    {
      "cell_type": "code",
      "execution_count": null,
      "metadata": {
        "id": "XWfdSiCxYcAg"
      },
      "outputs": [],
      "source": [
        "scaler = MinMaxScaler()# TODO: Lakukan scaling atau normalisasi\n",
        "X_transform = scaler.fit_transform(X)\n"
      ]
    },
    {
      "cell_type": "code",
      "execution_count": null,
      "metadata": {
        "id": "W5u5pH3uYcAg"
      },
      "outputs": [],
      "source": [
        "# Bagian ini digunakan jika Anda melakukan scaling atau normalisasi.\n",
        "# Jika tidak, code ini bisa dilewati dan diganti dengan code yang ada di dalam comment.\n",
        "\n",
        "X_transform = pd.DataFrame(X_transform, columns = X.columns)\n",
        "# X_transform = X.copy()"
      ]
    },
    {
      "cell_type": "markdown",
      "metadata": {
        "id": "2Yo5zqpSWEpv"
      },
      "source": []
    },
    {
      "cell_type": "markdown",
      "metadata": {
        "id": "4Pi0qKQAYcAh"
      },
      "source": [
        "### Train-Test Split"
      ]
    },
    {
      "cell_type": "code",
      "execution_count": null,
      "metadata": {
        "id": "0RDnybGDYcAh"
      },
      "outputs": [],
      "source": [
        "X_train ,X_test, y_train, y_test = tts(X_transform, y, test_size = 0.25, random_state = 123)"
      ]
    },
    {
      "cell_type": "markdown",
      "metadata": {
        "id": "9PPYhjm3YcAi"
      },
      "source": [
        "### Model #1"
      ]
    },
    {
      "cell_type": "code",
      "execution_count": null,
      "metadata": {
        "id": "uKzHsTMlWnl2"
      },
      "outputs": [],
      "source": [
        "# Logistic Regression adalah model linear yang digunakan untuk memprediksi probabilitas suatu variabel target yang biner (dua kelas), seperti \"Exited\" (keluar dari bank atau tidak). Logistic Regression menghitung hubungan linier antara fitur (X) dan log-odds dari kelas target.\n",
        "# Penggunaan: Cocok untuk masalah klasifikasi biner, seperti yang kita lihat di dataset ini.\n",
        "# Parameter yang diuji:\n",
        "# -\ttol: Toleransi untuk kriteria penghentian. Semakin kecil toleransinya, semakin presisi model dalam mencari solusi terbaik.\n",
        "# -\tC: Parameter regularisasi untuk menghindari overfitting. Nilai yang lebih besar mengurangi regularisasi.\n",
        "# -\tsolver: Algoritma untuk memecahkan persamaan optimisasi.\n",
        "# Output: Mencapai akurasi dengan hyperparameter terbaik berdasarkan GridSearchCV."
      ]
    },
    {
      "cell_type": "markdown",
      "metadata": {
        "id": "HdGQYMEAW_5g"
      },
      "source": []
    },
    {
      "cell_type": "markdown",
      "metadata": {
        "id": "HrY74Es9Wnl2"
      },
      "source": [
        "[ ANSWER HERE ]"
      ]
    },
    {
      "cell_type": "code",
      "execution_count": null,
      "metadata": {
        "colab": {
          "base_uri": "https://localhost:8080/"
        },
        "id": "bnqFXuCyYcAk",
        "outputId": "dcd468cd-0786-4644-d4a0-44080d192bca"
      },
      "outputs": [
        {
          "output_type": "stream",
          "name": "stdout",
          "text": [
            "Best Params:  {'C': 0.5, 'tol': 0.001}\n"
          ]
        }
      ],
      "source": [
        "# CONTOH pemanggilan library dan penggunaannya:\n",
        "\n",
        "from sklearn.linear_model import LogisticRegression\n",
        "model1 = LogisticRegression()\n",
        "params = {\"tol\": [0.1,0.01,0.001], 'C':[0.5,1.0,1.5,2.0]}\n",
        "\n",
        "# OPTIONAL: Lakukan hyperparameter tuning sesuai kebutuhan\n",
        "grid = GridSearchCV(\n",
        "    estimator= model1,\n",
        "    param_grid= params,\n",
        "    scoring = 'accuracy',\n",
        "    n_jobs = 10, # core cpu yang digunakan\n",
        "    cv = 10 # 3-fold cross validation (artinya kita melakukan iterasi model sebanyak 3 kali)\n",
        ")\n",
        "\n",
        "# grid.fit(X_train,y_train)\n",
        "# grid.best_params_\n",
        "grid.fit(X_train, y_train)\n",
        "print(\"Best Params: \", grid.best_params_)\n"
      ]
    },
    {
      "cell_type": "code",
      "execution_count": null,
      "metadata": {
        "colab": {
          "base_uri": "https://localhost:8080/"
        },
        "id": "1f32JE8kYcAk",
        "outputId": "db0ac2c2-bc17-4d4b-dcc3-2a6990b774b9"
      },
      "outputs": [
        {
          "output_type": "stream",
          "name": "stdout",
          "text": [
            "              precision    recall  f1-score   support\n",
            "\n",
            "           0       0.82      0.97      0.89      1983\n",
            "           1       0.66      0.20      0.31       517\n",
            "\n",
            "    accuracy                           0.81      2500\n",
            "   macro avg       0.74      0.59      0.60      2500\n",
            "weighted avg       0.79      0.81      0.77      2500\n",
            "\n",
            "\n",
            "[[1930   53]\n",
            " [ 413  104]]\n",
            "\n",
            "Accuracy Score:  0.8136\n"
          ]
        }
      ],
      "source": [
        "# TODO: Lakukan evaluasi untuk model #1\n",
        "y_pred = grid.predict(X_test)\n",
        "\n",
        "# Print evaluation metrics\n",
        "print(classification_report(y_test, y_pred))\n",
        "print(\"\")\n",
        "print(confusion_matrix(y_test, y_pred))\n",
        "print(\"\")\n",
        "print(\"Accuracy Score: \", accuracy_score(y_test, y_pred))\n"
      ]
    },
    {
      "cell_type": "markdown",
      "metadata": {
        "id": "QC2bZDEgWnl3"
      },
      "source": [
        "### Model #2"
      ]
    },
    {
      "cell_type": "code",
      "execution_count": null,
      "metadata": {
        "id": "0E-cJCOWWnl3"
      },
      "outputs": [],
      "source": [
        "# Random Forest adalah model ensemble berbasis pohon keputusan, yang membangun banyak pohon keputusan independen dan menggabungkan hasilnya. Setiap pohon keputusan dilatih dengan subset dari data dan fitur, dan hasil dari hutan diambil dari voting mayoritas.\n",
        "# Penggunaan: Cocok untuk masalah klasifikasi dan regresi, terutama ketika ada banyak fitur dan interaksi yang tidak linier.\n",
        "# Parameter yang diuji:\n",
        "# -\tn_estimators: Jumlah pohon dalam hutan.\n",
        "# -\tmax_depth: Kedalaman maksimum setiap pohon, semakin dalam semakin kompleks modelnya.\n",
        "# -\tmin_samples_split: Minimum sampel yang dibutuhkan untuk membagi node internal.\n",
        "# -\tmin_samples_leaf: Jumlah minimum sampel yang dibutuhkan untuk sebuah node daun."
      ]
    },
    {
      "cell_type": "markdown",
      "metadata": {
        "id": "kYG5Aw9lWnl3"
      },
      "source": [
        "[ ANSWER HERE ]"
      ]
    },
    {
      "cell_type": "code",
      "execution_count": null,
      "metadata": {
        "colab": {
          "base_uri": "https://localhost:8080/"
        },
        "id": "EogFTpjTWnl3",
        "outputId": "e3f4fc73-e74c-4227-c31c-9bc1eb010f5f"
      },
      "outputs": [
        {
          "output_type": "stream",
          "name": "stdout",
          "text": [
            "Best Params:  {'max_depth': 10, 'min_samples_leaf': 2, 'min_samples_split': 2, 'n_estimators': 100}\n"
          ]
        }
      ],
      "source": [
        "from sklearn.ensemble import RandomForestClassifier\n",
        "\n",
        "# TODO: Pilih salah satu model Machine Learning (ML) dari Scikit-learn\n",
        "model2 = RandomForestClassifier(random_state=123)\n",
        "params_rf = {\n",
        "    'n_estimators': [50, 100, 200],   # Jumlah tree\n",
        "    'max_depth': [10, 20, 30, None],  # Kedalaman maksimum\n",
        "    'min_samples_split': [2, 5, 10],  # Minimum sampel untuk split\n",
        "    'min_samples_leaf': [1, 2, 4]     # Minimum sampel\n",
        "}\n",
        "# OPTIONAL: Lakukan hyperparameter tuning sesuai kebutuhan\n",
        "grid_rf = GridSearchCV(\n",
        "    estimator=model2,\n",
        "    param_grid=params_rf,\n",
        "    scoring='accuracy',\n",
        "    n_jobs = 10, # core cpu yang digunakan\n",
        "    cv = 10 # 3-fold cross validation (artinya kita melakukan iterasi model sebanyak 3 kali)\n",
        ")\n",
        "\n",
        "grid_rf.fit(X_train, y_train)\n",
        "# grid.best_params_\n",
        "print(\"Best Params: \", grid_rf.best_params_)"
      ]
    },
    {
      "cell_type": "code",
      "execution_count": null,
      "metadata": {
        "colab": {
          "base_uri": "https://localhost:8080/"
        },
        "id": "KzYn9-m-Wnl3",
        "outputId": "ac0f9008-307d-4be2-ee17-62437ddfd98d"
      },
      "outputs": [
        {
          "output_type": "stream",
          "name": "stdout",
          "text": [
            "Classification Report (Random Forest):\n",
            "              precision    recall  f1-score   support\n",
            "\n",
            "           0       0.87      0.96      0.92      1983\n",
            "           1       0.77      0.47      0.58       517\n",
            "\n",
            "    accuracy                           0.86      2500\n",
            "   macro avg       0.82      0.71      0.75      2500\n",
            "weighted avg       0.85      0.86      0.85      2500\n",
            "\n",
            "Confusion Matrix (Random Forest):\n",
            "[[1911   72]\n",
            " [ 276  241]]\n",
            "Accuracy Score (Random Forest):  0.8608\n"
          ]
        }
      ],
      "source": [
        "y_pred_rf = grid_rf.predict(X_test)# TODO: Lakukan evaluasi untuk model #2\n",
        "\n",
        "\n",
        "# Print evaluation metrics untuk model #2\n",
        "print(\"Classification Report (Random Forest):\")\n",
        "print(classification_report(y_test, y_pred_rf))\n",
        "print(\"Confusion Matrix (Random Forest):\")\n",
        "print(confusion_matrix(y_test, y_pred_rf))\n",
        "print(\"Accuracy Score (Random Forest): \", accuracy_score(y_test, y_pred_rf))"
      ]
    },
    {
      "cell_type": "markdown",
      "metadata": {
        "id": "-TGRl-aiWnl3"
      },
      "source": [
        "### Model #3"
      ]
    },
    {
      "cell_type": "code",
      "execution_count": null,
      "metadata": {
        "id": "BLuDtLgUWnl3"
      },
      "outputs": [],
      "source": [
        "# Gradient Boosting adalah algoritma boosting berbasis pohon keputusan. Berbeda dengan Random Forest yang menggabungkan pohon independen, Gradient Boosting membangun pohon secara berurutan, dengan masing-masing pohon berusaha untuk mengoreksi kesalahan dari pohon sebelumnya. Ini membuatnya sangat kuat, tetapi juga lebih sensitif terhadap overfitting.\n",
        "# Penggunaan: Gradient Boosting sangat efektif untuk data dengan pola yang kompleks dan membutuhkan presisi tinggi.\n",
        "# Parameter yang diuji:\n",
        "# -\tn_estimators: Jumlah total pohon.\n",
        "# -\tlearning_rate: Seberapa besar kontribusi setiap pohon dalam membangun model. Nilai kecil membuat model belajar lebih lambat, tapi lebih stabil.\n",
        "# -\tmax_depth: Kedalaman maksimum pohon keputusan, yang mengontrol seberapa kompleks setiap pohon bisa.\n"
      ]
    },
    {
      "cell_type": "markdown",
      "metadata": {
        "id": "x-wCM_PrWnl3"
      },
      "source": [
        "[ ANSWER HERE ]"
      ]
    },
    {
      "cell_type": "code",
      "execution_count": null,
      "metadata": {
        "id": "4SDOvFE0Wnl3",
        "colab": {
          "base_uri": "https://localhost:8080/"
        },
        "outputId": "ce3e0252-0598-4736-9380-c312d50a48ee"
      },
      "outputs": [
        {
          "output_type": "stream",
          "name": "stdout",
          "text": [
            "Best Params (Gradient Boosting):  {'learning_rate': 0.1, 'max_depth': 3, 'n_estimators': 150}\n"
          ]
        }
      ],
      "source": [
        "from sklearn.ensemble import GradientBoostingClassifier\n",
        "model3 = GradientBoostingClassifier(random_state=123)\n",
        "\n",
        "# Hyperparameters untuk Gradient Boosting\n",
        "params_gb = {\n",
        "    'n_estimators': [100, 150, 200],\n",
        "    'learning_rate': [0.01, 0.1, 0.2],\n",
        "    'max_depth': [3, 5, 7]\n",
        "}\n",
        "\n",
        "# GridSearch untuk Gradient Boosting\n",
        "grid = GridSearchCV(\n",
        "    estimator=model3,\n",
        "    param_grid=params_gb,\n",
        "    scoring='accuracy',\n",
        "    n_jobs=10,  # core CPU yang digunakan\n",
        "    cv=10       # 10-fold cross validation\n",
        ")\n",
        "\n",
        "grid.fit(X_train, y_train)\n",
        "print(\"Best Params (Gradient Boosting): \", grid.best_params_)"
      ]
    },
    {
      "cell_type": "code",
      "execution_count": null,
      "metadata": {
        "colab": {
          "base_uri": "https://localhost:8080/"
        },
        "id": "zpIgSaUMWnl3",
        "outputId": "583c1633-c046-467f-92e9-9082dc740947"
      },
      "outputs": [
        {
          "output_type": "stream",
          "name": "stdout",
          "text": [
            "Classification Report (Gradient Boosting):\n",
            "              precision    recall  f1-score   support\n",
            "\n",
            "           0       0.88      0.96      0.92      1983\n",
            "           1       0.78      0.50      0.61       517\n",
            "\n",
            "    accuracy                           0.87      2500\n",
            "   macro avg       0.83      0.73      0.77      2500\n",
            "weighted avg       0.86      0.87      0.86      2500\n",
            "\n",
            "Confusion Matrix (Gradient Boosting):\n",
            "[[1910   73]\n",
            " [ 258  259]]\n",
            "Accuracy Score (Gradient Boosting):  0.8676\n",
            "\n",
            "\n",
            "\n"
          ]
        }
      ],
      "source": [
        "# Evaluasi untuk Gradient Boosting\n",
        "y_pred_gb = grid.predict(X_test)\n",
        "\n",
        "# Print evaluation metrics untuk model #3\n",
        "print(\"Classification Report (Gradient Boosting):\")\n",
        "print(classification_report(y_test, y_pred_gb))\n",
        "print(\"Confusion Matrix (Gradient Boosting):\")\n",
        "print(confusion_matrix(y_test, y_pred_gb))\n",
        "print(\"Accuracy Score (Gradient Boosting): \", accuracy_score(y_test, y_pred_gb))\n",
        "print(\"\\n\\n\")"
      ]
    },
    {
      "cell_type": "markdown",
      "metadata": {
        "id": "ajeN7rYVWnl3"
      },
      "source": [
        "### Conclusion"
      ]
    },
    {
      "cell_type": "code",
      "execution_count": null,
      "metadata": {
        "id": "A2ZRjrxbWnl3"
      },
      "outputs": [],
      "source": [
        "# Model terbaik dalam kasus ini adalah Gradient Boosting Classifier, karena memiliki:\n",
        "# Akurasi tertinggi (86.76%),\n",
        "# Precision yang baik untuk kelas 1 (0.78),\n",
        "# Recall yang lebih baik dibanding model lain (50%),\n",
        "# F1-score yang tertinggi (0.61) untuk kelas 1.\n",
        "# Model ini lebih seimbang dalam menangani kedua kelas (nasabah yang keluar dan tidak keluar) dibanding Logistic Regression dan Random Forest,\n",
        "# sehingga lebih cocok untuk situasi di mana mendeteksi nasabah yang keluar merupakan prioritas."
      ]
    },
    {
      "cell_type": "markdown",
      "metadata": {
        "id": "n5Z3OQN54rb-"
      },
      "source": [
        "[ ANSWER HERE ]"
      ]
    },
    {
      "cell_type": "markdown",
      "metadata": {
        "id": "Kd8Td1YsV23w"
      },
      "source": [
        "### Scoring\n",
        "Total `#TODO` = 13\n",
        "<br>Checklist:\n",
        "\n",
        "- [ ] Hilangkan kolom yang tidak relevan untuk pemodelan\n",
        "- [ ] Lakukan One-Hot Encoder untuk data kategorikal, dengan fungsi pd.get_dummies\n",
        "- [ ] Pisahkan fitur (X) dengan target (Y), dimana Y merujuk ke kolom \"Exited\"\n",
        "- [ ] Lakukan scaling atau normalisasi\n",
        "- [ ] Jelaskan secara singkat model #1 yang Anda gunakan\n",
        "- [ ] Pilih salah satu model Machine Learning (ML) dari Scikit-learn (model #1)\n",
        "- [ ] Lakukan evaluasi untuk model #1\n",
        "- [ ] Jelaskan secara singkat model #2 yang Anda gunakan\n",
        "- [ ] Pilih salah satu model Machine Learning (ML) dari Scikit-learn (model #2)\n",
        "- [ ] Lakukan evaluasi untuk model #2\n",
        "- [ ] Jelaskan secara singkat model #3 yang Anda gunakan\n",
        "- [ ] Pilih salah satu model Machine Learning (ML) dari Scikit-learn (model #3)\n",
        "- [ ] Lakukan evaluasi untuk model #3"
      ]
    },
    {
      "cell_type": "markdown",
      "metadata": {
        "id": "nu54eCVrV23w"
      },
      "source": [
        "### Additional readings\n",
        "- N/A"
      ]
    },
    {
      "cell_type": "markdown",
      "metadata": {
        "id": "8lozabSPV23w"
      },
      "source": [
        "### Copyright © 2024 Startup Campus, Indonesia\n",
        "* You may **NOT** use this file except there is written permission from PT. Kampus Merdeka Belajar (Startup Campus).\n",
        "* Please address your questions to mentors."
      ]
    }
  ],
  "metadata": {
    "colab": {
      "provenance": []
    },
    "kernelspec": {
      "display_name": "Python 3 (ipykernel)",
      "language": "python",
      "name": "python3"
    },
    "language_info": {
      "codemirror_mode": {
        "name": "ipython",
        "version": 3
      },
      "file_extension": ".py",
      "mimetype": "text/x-python",
      "name": "python",
      "nbconvert_exporter": "python",
      "pygments_lexer": "ipython3",
      "version": "3.11.9"
    },
    "toc-autonumbering": true,
    "toc-showcode": false,
    "toc-showmarkdowntxt": false
  },
  "nbformat": 4,
  "nbformat_minor": 0
}